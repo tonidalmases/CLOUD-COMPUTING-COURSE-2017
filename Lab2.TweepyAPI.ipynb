{
 "cells": [
  {
   "cell_type": "markdown",
   "metadata": {},
   "source": [
    "# Task 2.2: Getting Started with tweepy\n",
    "## Inicialització\n",
    "En primer lloc importem tweepy, llibreria de Python que ens permetra accedir a la API de Twitter, en aquesta sessió API REST."
   ]
  },
  {
   "cell_type": "code",
   "execution_count": 2,
   "metadata": {
    "collapsed": false
   },
   "outputs": [],
   "source": [
    "import tweepy\n",
    "from tweepy import OAuthHandler\n",
    "\n",
    "consumer_key = \"cNbkKHve3645xLIVgJjQbrWg6\"\n",
    "consumer_secret = \"B1SWKCIMFQjhh3Y5YGstKMvl8t7IAPTha1jxXy5b3IC6K8wz7w\"\n",
    "access_token = \"3720533727-cBbDc2bDnDSU6f9SuC3ti4oQcfTkMk7VbVmh9ZW\"\n",
    "access_secret = \"k2aioMNx3tCfw6jW9teksQ98WllWbKogVQF4YW0sRYTuW\"\n",
    "\n",
    "auth = OAuthHandler(consumer_key, consumer_secret)\n",
    "auth.set_access_token(access_token, access_secret)\n",
    " \n",
    "api = tweepy.API(auth)"
   ]
  },
  {
   "cell_type": "markdown",
   "metadata": {},
   "source": [
    "## Printat de propietats\n",
    "Imprimim les dades relacionades amb el nostre compte (es reutilitza un compte de TFG)."
   ]
  },
  {
   "cell_type": "code",
   "execution_count": 3,
   "metadata": {
    "collapsed": false
   },
   "outputs": [
    {
     "name": "stdout",
     "output_type": "stream",
     "text": [
      "Name: twiterbot_noticies\n",
      "Location: \n",
      "Friends: 2\n",
      "Created: 2015-09-20 19:16:41\n",
      "Description: \n"
     ]
    }
   ],
   "source": [
    "user = api.me()\n",
    " \n",
    "print('Name: ' + user.name)\n",
    "print('Location: ' + user.location)\n",
    "print('Friends: ' + str(user.followers_count))\n",
    "print('Created: ' + str(user.created_at))\n",
    "print('Description: ' + str(user.description))"
   ]
  },
  {
   "cell_type": "markdown",
   "metadata": {},
   "source": [
    "## Printat d'un tweet\n",
    "Procedim a imprimir l'últim tweet creat per un amic (paràmetre 1 indica el número dels últims tweets a obtenir)."
   ]
  },
  {
   "cell_type": "code",
   "execution_count": 4,
   "metadata": {
    "collapsed": false
   },
   "outputs": [
    {
     "name": "stdout",
     "output_type": "stream",
     "text": [
      "L'estat ha d'acollir 17.337 persones abans del 26/9. #VeniuJa ho recorda amb un comptador de temps.… https://t.co/2W6I4OHrsG\n"
     ]
    }
   ],
   "source": [
    "for status in tweepy.Cursor(api.home_timeline).items(1):\n",
    "    print(status.text) "
   ]
  },
  {
   "cell_type": "markdown",
   "metadata": {},
   "source": [
    "Fem el mateix imprimint un tweet però en aquest cas importem la llibreria de JSON i l'imprimim com a tal amb una identació de 2 espais."
   ]
  },
  {
   "cell_type": "code",
   "execution_count": 5,
   "metadata": {
    "collapsed": false,
    "scrolled": true
   },
   "outputs": [
    {
     "name": "stdout",
     "output_type": "stream",
     "text": [
      "{\n",
      "  \"contributors\": null, \n",
      "  \"truncated\": true, \n",
      "  \"text\": \"L'estat ha d'acollir 17.337 persones abans del 26/9. #VeniuJa ho recorda amb un comptador de temps.\\u2026 https://t.co/2W6I4OHrsG\", \n",
      "  \"is_quote_status\": false, \n",
      "  \"in_reply_to_status_id\": null, \n",
      "  \"id\": 863088937098768384, \n",
      "  \"favorite_count\": 1, \n",
      "  \"source\": \"<a href=\\\"http://www.hootsuite.com\\\" rel=\\\"nofollow\\\">Hootsuite</a>\", \n",
      "  \"retweeted\": false, \n",
      "  \"coordinates\": null, \n",
      "  \"entities\": {\n",
      "    \"symbols\": [], \n",
      "    \"user_mentions\": [], \n",
      "    \"hashtags\": [\n",
      "      {\n",
      "        \"indices\": [\n",
      "          53, \n",
      "          61\n",
      "        ], \n",
      "        \"text\": \"VeniuJa\"\n",
      "      }\n",
      "    ], \n",
      "    \"urls\": [\n",
      "      {\n",
      "        \"url\": \"https://t.co/2W6I4OHrsG\", \n",
      "        \"indices\": [\n",
      "          101, \n",
      "          124\n",
      "        ], \n",
      "        \"expanded_url\": \"https://twitter.com/i/web/status/863088937098768384\", \n",
      "        \"display_url\": \"twitter.com/i/web/status/8\\u2026\"\n",
      "      }\n",
      "    ]\n",
      "  }, \n",
      "  \"in_reply_to_screen_name\": null, \n",
      "  \"in_reply_to_user_id\": null, \n",
      "  \"retweet_count\": 1, \n",
      "  \"id_str\": \"863088937098768384\", \n",
      "  \"favorited\": false, \n",
      "  \"user\": {\n",
      "    \"follow_request_sent\": false, \n",
      "    \"has_extended_profile\": false, \n",
      "    \"profile_use_background_image\": true, \n",
      "    \"default_profile_image\": false, \n",
      "    \"id\": 95695959, \n",
      "    \"profile_background_image_url_https\": \"https://pbs.twimg.com/profile_background_images/653258374046478336/dw7DPLlC.jpg\", \n",
      "    \"verified\": true, \n",
      "    \"translator_type\": \"regular\", \n",
      "    \"profile_text_color\": \"333333\", \n",
      "    \"profile_image_url_https\": \"https://pbs.twimg.com/profile_images/857140669839798273/QhREDVHI_normal.jpg\", \n",
      "    \"profile_sidebar_fill_color\": \"FFFFFF\", \n",
      "    \"entities\": {\n",
      "      \"url\": {\n",
      "        \"urls\": [\n",
      "          {\n",
      "            \"url\": \"https://t.co/FWP1q1SrbD\", \n",
      "            \"indices\": [\n",
      "              0, \n",
      "              23\n",
      "            ], \n",
      "            \"expanded_url\": \"http://www.barcelona.cat\", \n",
      "            \"display_url\": \"barcelona.cat\"\n",
      "          }\n",
      "        ]\n",
      "      }, \n",
      "      \"description\": {\n",
      "        \"urls\": []\n",
      "      }\n",
      "    }, \n",
      "    \"followers_count\": 328580, \n",
      "    \"profile_sidebar_border_color\": \"FFFFFF\", \n",
      "    \"id_str\": \"95695959\", \n",
      "    \"profile_background_color\": \"FFFFFF\", \n",
      "    \"listed_count\": 2335, \n",
      "    \"is_translation_enabled\": false, \n",
      "    \"utc_offset\": 7200, \n",
      "    \"statuses_count\": 56650, \n",
      "    \"description\": \"Benvingut/da al canal oficial de Barcelona. Descobreix qu\\u00e8 passa a la ciutat / Welcome to Barcelona's city official channel. Discover what's on!\", \n",
      "    \"friends_count\": 9953, \n",
      "    \"location\": \"Barcelona, Catalunya\", \n",
      "    \"profile_link_color\": \"CC1E1E\", \n",
      "    \"profile_image_url\": \"http://pbs.twimg.com/profile_images/857140669839798273/QhREDVHI_normal.jpg\", \n",
      "    \"following\": true, \n",
      "    \"geo_enabled\": true, \n",
      "    \"profile_banner_url\": \"https://pbs.twimg.com/profile_banners/95695959/1493033862\", \n",
      "    \"profile_background_image_url\": \"http://pbs.twimg.com/profile_background_images/653258374046478336/dw7DPLlC.jpg\", \n",
      "    \"screen_name\": \"barcelona_cat\", \n",
      "    \"lang\": \"ca\", \n",
      "    \"profile_background_tile\": false, \n",
      "    \"favourites_count\": 1192, \n",
      "    \"name\": \"Barcelona\", \n",
      "    \"notifications\": false, \n",
      "    \"url\": \"https://t.co/FWP1q1SrbD\", \n",
      "    \"created_at\": \"Wed Dec 09 17:54:17 +0000 2009\", \n",
      "    \"contributors_enabled\": false, \n",
      "    \"time_zone\": \"Madrid\", \n",
      "    \"protected\": false, \n",
      "    \"default_profile\": false, \n",
      "    \"is_translator\": false\n",
      "  }, \n",
      "  \"geo\": null, \n",
      "  \"in_reply_to_user_id_str\": null, \n",
      "  \"possibly_sensitive\": false, \n",
      "  \"possibly_sensitive_appealable\": false, \n",
      "  \"lang\": \"und\", \n",
      "  \"created_at\": \"Fri May 12 17:50:12 +0000 2017\", \n",
      "  \"in_reply_to_status_id_str\": null, \n",
      "  \"place\": null\n",
      "}\n"
     ]
    }
   ],
   "source": [
    "import json\n",
    "\n",
    "for status in tweepy.Cursor(api.home_timeline).items(1):\n",
    "    print(json.dumps(status._json, indent=2))"
   ]
  },
  {
   "cell_type": "markdown",
   "metadata": {},
   "source": [
    "## Printat d'informació d'amistats\n",
    "En aquest cas agafem un amic i printem la seva infromació en JSON, aprofitaant l'import que hem fet anteriorment."
   ]
  },
  {
   "cell_type": "code",
   "execution_count": 6,
   "metadata": {
    "collapsed": false
   },
   "outputs": [
    {
     "name": "stdout",
     "output_type": "stream",
     "text": [
      "{\n",
      "  \"follow_request_sent\": false, \n",
      "  \"has_extended_profile\": false, \n",
      "  \"profile_use_background_image\": true, \n",
      "  \"live_following\": false, \n",
      "  \"default_profile_image\": false, \n",
      "  \"id\": 95695959, \n",
      "  \"profile_background_image_url_https\": \"https://pbs.twimg.com/profile_background_images/653258374046478336/dw7DPLlC.jpg\", \n",
      "  \"translator_type\": \"regular\", \n",
      "  \"verified\": true, \n",
      "  \"blocked_by\": false, \n",
      "  \"profile_text_color\": \"333333\", \n",
      "  \"muting\": false, \n",
      "  \"profile_image_url_https\": \"https://pbs.twimg.com/profile_images/857140669839798273/QhREDVHI_normal.jpg\", \n",
      "  \"profile_sidebar_fill_color\": \"FFFFFF\", \n",
      "  \"entities\": {\n",
      "    \"url\": {\n",
      "      \"urls\": [\n",
      "        {\n",
      "          \"url\": \"https://t.co/FWP1q1SrbD\", \n",
      "          \"indices\": [\n",
      "            0, \n",
      "            23\n",
      "          ], \n",
      "          \"expanded_url\": \"http://www.barcelona.cat\", \n",
      "          \"display_url\": \"barcelona.cat\"\n",
      "        }\n",
      "      ]\n",
      "    }, \n",
      "    \"description\": {\n",
      "      \"urls\": []\n",
      "    }\n",
      "  }, \n",
      "  \"followers_count\": 328580, \n",
      "  \"profile_sidebar_border_color\": \"FFFFFF\", \n",
      "  \"id_str\": \"95695959\", \n",
      "  \"profile_background_color\": \"FFFFFF\", \n",
      "  \"listed_count\": 2335, \n",
      "  \"status\": {\n",
      "    \"contributors\": null, \n",
      "    \"truncated\": true, \n",
      "    \"text\": \"L'estat ha d'acollir 17.337 persones abans del 26/9. #VeniuJa ho recorda amb un comptador de temps.\\u2026 https://t.co/2W6I4OHrsG\", \n",
      "    \"is_quote_status\": false, \n",
      "    \"in_reply_to_status_id\": null, \n",
      "    \"id\": 863088937098768384, \n",
      "    \"favorite_count\": 1, \n",
      "    \"source\": \"<a href=\\\"http://www.hootsuite.com\\\" rel=\\\"nofollow\\\">Hootsuite</a>\", \n",
      "    \"retweeted\": false, \n",
      "    \"coordinates\": null, \n",
      "    \"entities\": {\n",
      "      \"symbols\": [], \n",
      "      \"user_mentions\": [], \n",
      "      \"hashtags\": [\n",
      "        {\n",
      "          \"indices\": [\n",
      "            53, \n",
      "            61\n",
      "          ], \n",
      "          \"text\": \"VeniuJa\"\n",
      "        }\n",
      "      ], \n",
      "      \"urls\": [\n",
      "        {\n",
      "          \"url\": \"https://t.co/2W6I4OHrsG\", \n",
      "          \"indices\": [\n",
      "            101, \n",
      "            124\n",
      "          ], \n",
      "          \"expanded_url\": \"https://twitter.com/i/web/status/863088937098768384\", \n",
      "          \"display_url\": \"twitter.com/i/web/status/8\\u2026\"\n",
      "        }\n",
      "      ]\n",
      "    }, \n",
      "    \"in_reply_to_screen_name\": null, \n",
      "    \"in_reply_to_user_id\": null, \n",
      "    \"retweet_count\": 1, \n",
      "    \"id_str\": \"863088937098768384\", \n",
      "    \"favorited\": false, \n",
      "    \"geo\": null, \n",
      "    \"in_reply_to_user_id_str\": null, \n",
      "    \"possibly_sensitive\": false, \n",
      "    \"lang\": \"und\", \n",
      "    \"created_at\": \"Fri May 12 17:50:12 +0000 2017\", \n",
      "    \"in_reply_to_status_id_str\": null, \n",
      "    \"place\": null\n",
      "  }, \n",
      "  \"is_translation_enabled\": false, \n",
      "  \"utc_offset\": 7200, \n",
      "  \"statuses_count\": 56650, \n",
      "  \"description\": \"Benvingut/da al canal oficial de Barcelona. Descobreix qu\\u00e8 passa a la ciutat / Welcome to Barcelona's city official channel. Discover what's on!\", \n",
      "  \"friends_count\": 9953, \n",
      "  \"location\": \"Barcelona, Catalunya\", \n",
      "  \"profile_link_color\": \"CC1E1E\", \n",
      "  \"profile_image_url\": \"http://pbs.twimg.com/profile_images/857140669839798273/QhREDVHI_normal.jpg\", \n",
      "  \"following\": true, \n",
      "  \"geo_enabled\": true, \n",
      "  \"profile_banner_url\": \"https://pbs.twimg.com/profile_banners/95695959/1493033862\", \n",
      "  \"blocking\": false, \n",
      "  \"profile_background_image_url\": \"http://pbs.twimg.com/profile_background_images/653258374046478336/dw7DPLlC.jpg\", \n",
      "  \"screen_name\": \"barcelona_cat\", \n",
      "  \"lang\": \"ca\", \n",
      "  \"profile_background_tile\": false, \n",
      "  \"favourites_count\": 1192, \n",
      "  \"name\": \"Barcelona\", \n",
      "  \"notifications\": false, \n",
      "  \"url\": \"https://t.co/FWP1q1SrbD\", \n",
      "  \"created_at\": \"Wed Dec 09 17:54:17 +0000 2009\", \n",
      "  \"contributors_enabled\": false, \n",
      "  \"time_zone\": \"Madrid\", \n",
      "  \"protected\": false, \n",
      "  \"default_profile\": false, \n",
      "  \"is_translator\": false\n",
      "}\n"
     ]
    }
   ],
   "source": [
    "for friend in tweepy.Cursor(api.friends).items(1):\n",
    "    print(json.dumps(friend._json, indent=2))"
   ]
  },
  {
   "cell_type": "markdown",
   "metadata": {},
   "source": [
    "# Task 2.3: Tweet pre-processing\n",
    "## Tractament de paraules\n",
    "En primer lloc importem el nltk.tokenize (mòdul word_tokenize) que ens permetrà el tractament de paraules."
   ]
  },
  {
   "cell_type": "code",
   "execution_count": 7,
   "metadata": {
    "collapsed": false
   },
   "outputs": [
    {
     "name": "stdout",
     "output_type": "stream",
     "text": [
      "['RT', '@', 'JordiTorresBCN', ':', 'just', 'an', 'example', '!', ':', 'D', 'http', ':', '//JordiTorres.Barcelona', '#', 'masterMEI']\n"
     ]
    }
   ],
   "source": [
    "from nltk.tokenize import word_tokenize\n",
    "\n",
    "tweet = 'RT @JordiTorresBCN: just an example! :D http://JordiTorres.Barcelona #masterMEI'\n",
    "\n",
    "print(word_tokenize(tweet))"
   ]
  },
  {
   "cell_type": "markdown",
   "metadata": {},
   "source": [
    "## Tractament d'emoticones\n",
    "Amb el següent codi tractem els emoticones que hi poden haver als tweets."
   ]
  },
  {
   "cell_type": "code",
   "execution_count": 8,
   "metadata": {
    "collapsed": false
   },
   "outputs": [
    {
     "name": "stdout",
     "output_type": "stream",
     "text": [
      "['RT', '@JordiTorresBCN', ':', 'just', 'an', 'example', '!', ':D', 'http://JordiTorres.Barcelona', '#masterMEI']\n"
     ]
    }
   ],
   "source": [
    "import re\n",
    " \n",
    "emoticons_str = r\"\"\"\n",
    "    (?:\n",
    "        [:=;] # Eyes\n",
    "        [oO\\-]? # Nose (optional)\n",
    "        [D\\)\\]\\(\\]/\\\\OpP] # Mouth\n",
    "    )\"\"\"\n",
    " \n",
    "regex_str = [\n",
    "    emoticons_str,\n",
    "    r'<[^>]+>', # HTML tags\n",
    "    r'(?:@[\\w_]+)', # @-mentions\n",
    "    r\"(?:\\#+[\\w_]+[\\w\\'_\\-]*[\\w_]+)\", # hash-tags\n",
    "    r'http[s]?://(?:[a-z]|[0-9]|[$-_@.&+]|[!*\\(\\),]|(?:%[0-9a-f][0-9a-f]))+', # URLs\n",
    " \n",
    "    r'(?:(?:\\d+,?)+(?:\\.?\\d+)?)', # numbers\n",
    "    r\"(?:[a-z][a-z'\\-_]+[a-z])\", # words with - and '\n",
    "    r'(?:[\\w_]+)', # other words\n",
    "    r'(?:\\S)' # anything else\n",
    "]\n",
    "    \n",
    "tokens_re = re.compile(r'('+'|'.join(regex_str)+')', re.VERBOSE | re.IGNORECASE)\n",
    "emoticon_re = re.compile(r'^'+emoticons_str+'$', re.VERBOSE | re.IGNORECASE)\n",
    " \n",
    "def tokenize(s):\n",
    "    return tokens_re.findall(s)\n",
    " \n",
    "def preprocess(s, lowercase=False):\n",
    "    tokens = tokenize(s)\n",
    "    if lowercase:\n",
    "        tokens = [token if emoticon_re.search(token) else token.lower() for token in tokens]\n",
    "    return tokens\n",
    " \n",
    "tweet = 'RT @JordiTorresBCN: just an example! :D http://JordiTorres.Barcelona #masterMEI'\n",
    "print(preprocess(tweet))"
   ]
  },
  {
   "cell_type": "markdown",
   "metadata": {
    "collapsed": true
   },
   "source": [
    "## Resultat\n",
    "Com es pot comprovar en la sortida anterior, ara l'emoticona \":D\" ens el tracta com una paraula."
   ]
  }
 ],
 "metadata": {
  "kernelspec": {
   "display_name": "Python 2",
   "language": "python",
   "name": "python2"
  },
  "language_info": {
   "codemirror_mode": {
    "name": "ipython",
    "version": 2
   },
   "file_extension": ".py",
   "mimetype": "text/x-python",
   "name": "python",
   "nbconvert_exporter": "python",
   "pygments_lexer": "ipython2",
   "version": "2.7.13"
  }
 },
 "nbformat": 4,
 "nbformat_minor": 2
}
