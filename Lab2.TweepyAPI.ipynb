{
 "cells": [
  {
   "cell_type": "code",
   "execution_count": 11,
   "metadata": {
    "collapsed": false
   },
   "outputs": [],
   "source": [
    "import tweepy\n",
    "from tweepy import OAuthHandler\n",
    "\n",
    "consumer_key = \"cNbkKHve3645xLIVgJjQbrWg6\"\n",
    "consumer_secret = \"B1SWKCIMFQjhh3Y5YGstKMvl8t7IAPTha1jxXy5b3IC6K8wz7w\"\n",
    "access_token = \"3720533727-cBbDc2bDnDSU6f9SuC3ti4oQcfTkMk7VbVmh9ZW\"\n",
    "access_secret = \"k2aioMNx3tCfw6jW9teksQ98WllWbKogVQF4YW0sRYTuW\"\n",
    "\n",
    "auth = OAuthHandler(consumer_key, consumer_secret)\n",
    "auth.set_access_token(access_token, access_secret)\n",
    " \n",
    "api = tweepy.API(auth)"
   ]
  },
  {
   "cell_type": "code",
   "execution_count": 12,
   "metadata": {
    "collapsed": false
   },
   "outputs": [
    {
     "name": "stdout",
     "output_type": "stream",
     "text": [
      "Name: twiterbot_noticies\n",
      "Location: \n",
      "Friends: 1\n",
      "Created: 2015-09-20 19:16:41\n",
      "Description: \n"
     ]
    }
   ],
   "source": [
    "user = api.me()\n",
    " \n",
    "print('Name: ' + user.name)\n",
    "print('Location: ' + user.location)\n",
    "print('Friends: ' + str(user.followers_count))\n",
    "print('Created: ' + str(user.created_at))\n",
    "print('Description: ' + str(user.description))"
   ]
  },
  {
   "cell_type": "code",
   "execution_count": 20,
   "metadata": {
    "collapsed": false
   },
   "outputs": [
    {
     "name": "stdout",
     "output_type": "stream",
     "text": [
      "Aprenent de manera divertida a l'assignatura de Cloud Computing! :) #perfectlife #loveupc #lovedacloud\n"
     ]
    }
   ],
   "source": [
    "for status in tweepy.Cursor(api.home_timeline).items(1):\n",
    "    print(status.text) "
   ]
  },
  {
   "cell_type": "code",
   "execution_count": 21,
   "metadata": {
    "collapsed": false
   },
   "outputs": [
    {
     "name": "stdout",
     "output_type": "stream",
     "text": [
      "{\n",
      "  \"contributors\": null, \n",
      "  \"truncated\": false, \n",
      "  \"text\": \"Aprenent de manera divertida a l'assignatura de Cloud Computing! :) #perfectlife #loveupc #lovedacloud\", \n",
      "  \"is_quote_status\": false, \n",
      "  \"in_reply_to_status_id\": null, \n",
      "  \"id\": 857957627208359936, \n",
      "  \"favorite_count\": 0, \n",
      "  \"source\": \"<a href=\\\"http://twitter.com\\\" rel=\\\"nofollow\\\">Twitter Web Client</a>\", \n",
      "  \"retweeted\": false, \n",
      "  \"coordinates\": null, \n",
      "  \"entities\": {\n",
      "    \"symbols\": [], \n",
      "    \"user_mentions\": [], \n",
      "    \"hashtags\": [\n",
      "      {\n",
      "        \"indices\": [\n",
      "          68, \n",
      "          80\n",
      "        ], \n",
      "        \"text\": \"perfectlife\"\n",
      "      }, \n",
      "      {\n",
      "        \"indices\": [\n",
      "          81, \n",
      "          89\n",
      "        ], \n",
      "        \"text\": \"loveupc\"\n",
      "      }, \n",
      "      {\n",
      "        \"indices\": [\n",
      "          90, \n",
      "          102\n",
      "        ], \n",
      "        \"text\": \"lovedacloud\"\n",
      "      }\n",
      "    ], \n",
      "    \"urls\": []\n",
      "  }, \n",
      "  \"in_reply_to_screen_name\": null, \n",
      "  \"in_reply_to_user_id\": null, \n",
      "  \"retweet_count\": 0, \n",
      "  \"id_str\": \"857957627208359936\", \n",
      "  \"favorited\": false, \n",
      "  \"user\": {\n",
      "    \"follow_request_sent\": false, \n",
      "    \"has_extended_profile\": false, \n",
      "    \"profile_use_background_image\": true, \n",
      "    \"default_profile_image\": true, \n",
      "    \"id\": 3720533727, \n",
      "    \"profile_background_image_url_https\": \"https://abs.twimg.com/images/themes/theme1/bg.png\", \n",
      "    \"verified\": false, \n",
      "    \"translator_type\": \"none\", \n",
      "    \"profile_text_color\": \"333333\", \n",
      "    \"profile_image_url_https\": \"https://abs.twimg.com/sticky/default_profile_images/default_profile_normal.png\", \n",
      "    \"profile_sidebar_fill_color\": \"DDEEF6\", \n",
      "    \"entities\": {\n",
      "      \"description\": {\n",
      "        \"urls\": []\n",
      "      }\n",
      "    }, \n",
      "    \"followers_count\": 1, \n",
      "    \"profile_sidebar_border_color\": \"C0DEED\", \n",
      "    \"id_str\": \"3720533727\", \n",
      "    \"profile_background_color\": \"C0DEED\", \n",
      "    \"listed_count\": 0, \n",
      "    \"is_translation_enabled\": false, \n",
      "    \"utc_offset\": null, \n",
      "    \"statuses_count\": 2, \n",
      "    \"description\": \"\", \n",
      "    \"friends_count\": 0, \n",
      "    \"location\": \"\", \n",
      "    \"profile_link_color\": \"1DA1F2\", \n",
      "    \"profile_image_url\": \"http://abs.twimg.com/sticky/default_profile_images/default_profile_normal.png\", \n",
      "    \"following\": false, \n",
      "    \"geo_enabled\": false, \n",
      "    \"profile_background_image_url\": \"http://abs.twimg.com/images/themes/theme1/bg.png\", \n",
      "    \"screen_name\": \"tfg_1304320\", \n",
      "    \"lang\": \"es\", \n",
      "    \"profile_background_tile\": false, \n",
      "    \"favourites_count\": 0, \n",
      "    \"name\": \"twiterbot_noticies\", \n",
      "    \"notifications\": false, \n",
      "    \"url\": null, \n",
      "    \"created_at\": \"Sun Sep 20 19:16:41 +0000 2015\", \n",
      "    \"contributors_enabled\": false, \n",
      "    \"time_zone\": null, \n",
      "    \"protected\": false, \n",
      "    \"default_profile\": true, \n",
      "    \"is_translator\": false\n",
      "  }, \n",
      "  \"geo\": null, \n",
      "  \"in_reply_to_user_id_str\": null, \n",
      "  \"lang\": \"und\", \n",
      "  \"created_at\": \"Fri Apr 28 14:00:13 +0000 2017\", \n",
      "  \"in_reply_to_status_id_str\": null, \n",
      "  \"place\": null\n",
      "}\n"
     ]
    }
   ],
   "source": [
    "import json\n",
    "\n",
    "for status in tweepy.Cursor(api.home_timeline).items(1):\n",
    "    print(json.dumps(status._json, indent=2))"
   ]
  },
  {
   "cell_type": "code",
   "execution_count": 22,
   "metadata": {
    "collapsed": false
   },
   "outputs": [
    {
     "name": "stdout",
     "output_type": "stream",
     "text": [
      "{\n",
      "  \"follow_request_sent\": false, \n",
      "  \"has_extended_profile\": false, \n",
      "  \"profile_use_background_image\": true, \n",
      "  \"live_following\": false, \n",
      "  \"default_profile_image\": false, \n",
      "  \"id\": 95695959, \n",
      "  \"profile_background_image_url_https\": \"https://pbs.twimg.com/profile_background_images/653258374046478336/dw7DPLlC.jpg\", \n",
      "  \"translator_type\": \"regular\", \n",
      "  \"verified\": true, \n",
      "  \"blocked_by\": false, \n",
      "  \"profile_text_color\": \"333333\", \n",
      "  \"muting\": false, \n",
      "  \"profile_image_url_https\": \"https://pbs.twimg.com/profile_images/857140669839798273/QhREDVHI_normal.jpg\", \n",
      "  \"profile_sidebar_fill_color\": \"FFFFFF\", \n",
      "  \"entities\": {\n",
      "    \"url\": {\n",
      "      \"urls\": [\n",
      "        {\n",
      "          \"url\": \"https://t.co/FWP1q1SrbD\", \n",
      "          \"indices\": [\n",
      "            0, \n",
      "            23\n",
      "          ], \n",
      "          \"expanded_url\": \"http://www.barcelona.cat\", \n",
      "          \"display_url\": \"barcelona.cat\"\n",
      "        }\n",
      "      ]\n",
      "    }, \n",
      "    \"description\": {\n",
      "      \"urls\": []\n",
      "    }\n",
      "  }, \n",
      "  \"followers_count\": 325976, \n",
      "  \"profile_sidebar_border_color\": \"FFFFFF\", \n",
      "  \"id_str\": \"95695959\", \n",
      "  \"profile_background_color\": \"FFFFFF\", \n",
      "  \"listed_count\": 2333, \n",
      "  \"status\": {\n",
      "    \"contributors\": null, \n",
      "    \"truncated\": true, \n",
      "    \"text\": \"Un festival per veure i sentir. El Festival #Dansat \\u00e9s una de les nostres recomanacions del #capdesetmana. #DID17\\u2026 https://t.co/gKdU1gwyiR\", \n",
      "    \"is_quote_status\": false, \n",
      "    \"in_reply_to_status_id\": null, \n",
      "    \"id\": 857952591828975616, \n",
      "    \"favorite_count\": 2, \n",
      "    \"source\": \"<a href=\\\"http://www.hootsuite.com\\\" rel=\\\"nofollow\\\">Hootsuite</a>\", \n",
      "    \"retweeted\": false, \n",
      "    \"coordinates\": null, \n",
      "    \"entities\": {\n",
      "      \"symbols\": [], \n",
      "      \"user_mentions\": [], \n",
      "      \"hashtags\": [\n",
      "        {\n",
      "          \"indices\": [\n",
      "            44, \n",
      "            51\n",
      "          ], \n",
      "          \"text\": \"Dansat\"\n",
      "        }, \n",
      "        {\n",
      "          \"indices\": [\n",
      "            92, \n",
      "            105\n",
      "          ], \n",
      "          \"text\": \"capdesetmana\"\n",
      "        }, \n",
      "        {\n",
      "          \"indices\": [\n",
      "            107, \n",
      "            113\n",
      "          ], \n",
      "          \"text\": \"DID17\"\n",
      "        }\n",
      "      ], \n",
      "      \"urls\": [\n",
      "        {\n",
      "          \"url\": \"https://t.co/gKdU1gwyiR\", \n",
      "          \"indices\": [\n",
      "            115, \n",
      "            138\n",
      "          ], \n",
      "          \"expanded_url\": \"https://twitter.com/i/web/status/857952591828975616\", \n",
      "          \"display_url\": \"twitter.com/i/web/status/8\\u2026\"\n",
      "        }\n",
      "      ]\n",
      "    }, \n",
      "    \"in_reply_to_screen_name\": null, \n",
      "    \"in_reply_to_user_id\": null, \n",
      "    \"retweet_count\": 0, \n",
      "    \"id_str\": \"857952591828975616\", \n",
      "    \"favorited\": false, \n",
      "    \"geo\": null, \n",
      "    \"in_reply_to_user_id_str\": null, \n",
      "    \"possibly_sensitive\": false, \n",
      "    \"lang\": \"und\", \n",
      "    \"created_at\": \"Fri Apr 28 13:40:12 +0000 2017\", \n",
      "    \"in_reply_to_status_id_str\": null, \n",
      "    \"place\": null\n",
      "  }, \n",
      "  \"is_translation_enabled\": false, \n",
      "  \"utc_offset\": 7200, \n",
      "  \"statuses_count\": 56420, \n",
      "  \"description\": \"Benvingut/da al canal oficial de Barcelona. Descobreix qu\\u00e8 passa a la ciutat / Welcome to Barcelona's city official channel. Discover what's on!\", \n",
      "  \"friends_count\": 9953, \n",
      "  \"location\": \"Barcelona, Catalunya\", \n",
      "  \"profile_link_color\": \"CC1E1E\", \n",
      "  \"profile_image_url\": \"http://pbs.twimg.com/profile_images/857140669839798273/QhREDVHI_normal.jpg\", \n",
      "  \"following\": true, \n",
      "  \"geo_enabled\": true, \n",
      "  \"profile_banner_url\": \"https://pbs.twimg.com/profile_banners/95695959/1493033862\", \n",
      "  \"blocking\": false, \n",
      "  \"profile_background_image_url\": \"http://pbs.twimg.com/profile_background_images/653258374046478336/dw7DPLlC.jpg\", \n",
      "  \"screen_name\": \"barcelona_cat\", \n",
      "  \"lang\": \"ca\", \n",
      "  \"profile_background_tile\": false, \n",
      "  \"favourites_count\": 1192, \n",
      "  \"name\": \"Barcelona\", \n",
      "  \"notifications\": false, \n",
      "  \"url\": \"https://t.co/FWP1q1SrbD\", \n",
      "  \"created_at\": \"Wed Dec 09 17:54:17 +0000 2009\", \n",
      "  \"contributors_enabled\": false, \n",
      "  \"time_zone\": \"Madrid\", \n",
      "  \"protected\": false, \n",
      "  \"default_profile\": false, \n",
      "  \"is_translator\": false\n",
      "}\n"
     ]
    }
   ],
   "source": [
    "for friend in tweepy.Cursor(api.friends).items(1):\n",
    "    print(json.dumps(friend._json, indent=2))"
   ]
  },
  {
   "cell_type": "code",
   "execution_count": 17,
   "metadata": {
    "collapsed": false
   },
   "outputs": [
    {
     "name": "stdout",
     "output_type": "stream",
     "text": [
      "['RT', '@', 'JordiTorresBCN', ':', 'just', 'an', 'example', '!', ':', 'D', 'http', ':', '//JordiTorres.Barcelona', '#', 'masterMEI']\n"
     ]
    }
   ],
   "source": [
    "from nltk.tokenize import word_tokenize\n",
    "\n",
    "tweet = 'RT @JordiTorresBCN: just an example! :D http://JordiTorres.Barcelona #masterMEI'\n",
    "\n",
    "print(word_tokenize(tweet))"
   ]
  },
  {
   "cell_type": "code",
   "execution_count": 18,
   "metadata": {
    "collapsed": false
   },
   "outputs": [
    {
     "name": "stdout",
     "output_type": "stream",
     "text": [
      "['RT', '@JordiTorresBCN', ':', 'just', 'an', 'example', '!', ':D', 'http://JordiTorres.Barcelona', '#masterMEI']\n"
     ]
    }
   ],
   "source": [
    "import re\n",
    " \n",
    "emoticons_str = r\"\"\"\n",
    "    (?:\n",
    "        [:=;] # Eyes\n",
    "        [oO\\-]? # Nose (optional)\n",
    "        [D\\)\\]\\(\\]/\\\\OpP] # Mouth\n",
    "    )\"\"\"\n",
    " \n",
    "regex_str = [\n",
    "    emoticons_str,\n",
    "    r'<[^>]+>', # HTML tags\n",
    "    r'(?:@[\\w_]+)', # @-mentions\n",
    "    r\"(?:\\#+[\\w_]+[\\w\\'_\\-]*[\\w_]+)\", # hash-tags\n",
    "    r'http[s]?://(?:[a-z]|[0-9]|[$-_@.&+]|[!*\\(\\),]|(?:%[0-9a-f][0-9a-f]))+', # URLs\n",
    " \n",
    "    r'(?:(?:\\d+,?)+(?:\\.?\\d+)?)', # numbers\n",
    "    r\"(?:[a-z][a-z'\\-_]+[a-z])\", # words with - and '\n",
    "    r'(?:[\\w_]+)', # other words\n",
    "    r'(?:\\S)' # anything else\n",
    "]\n",
    "    \n",
    "tokens_re = re.compile(r'('+'|'.join(regex_str)+')', re.VERBOSE | re.IGNORECASE)\n",
    "emoticon_re = re.compile(r'^'+emoticons_str+'$', re.VERBOSE | re.IGNORECASE)\n",
    " \n",
    "def tokenize(s):\n",
    "    return tokens_re.findall(s)\n",
    " \n",
    "def preprocess(s, lowercase=False):\n",
    "    tokens = tokenize(s)\n",
    "    if lowercase:\n",
    "        tokens = [token if emoticon_re.search(token) else token.lower() for token in tokens]\n",
    "    return tokens\n",
    " \n",
    "tweet = 'RT @JordiTorresBCN: just an example! :D http://JordiTorres.Barcelona #masterMEI'\n",
    "print(preprocess(tweet))"
   ]
  },
  {
   "cell_type": "code",
   "execution_count": 19,
   "metadata": {
    "collapsed": false
   },
   "outputs": [
    {
     "data": {
      "text/plain": [
       "User(follow_request_sent=False, has_extended_profile=False, profile_use_background_image=True, _json={u'follow_request_sent': False, u'has_extended_profile': False, u'profile_use_background_image': True, u'profile_text_color': u'333333', u'default_profile_image': True, u'suspended': False, u'id': 3720533727, u'profile_background_image_url_https': u'https://abs.twimg.com/images/themes/theme1/bg.png', u'verified': False, u'translator_type': u'none', u'profile_location': None, u'profile_image_url_https': u'https://abs.twimg.com/sticky/default_profile_images/default_profile_normal.png', u'profile_sidebar_fill_color': u'DDEEF6', u'entities': {u'description': {u'urls': []}}, u'followers_count': 1, u'profile_sidebar_border_color': u'C0DEED', u'id_str': u'3720533727', u'profile_background_color': u'C0DEED', u'needs_phone_verification': False, u'listed_count': 0, u'status': {u'contributors': None, u'truncated': False, u'text': u'comen\\xe7ant el tfg...', u'is_quote_status': False, u'in_reply_to_status_id': None, u'id': 645693340978012161, u'favorite_count': 0, u'source': u'<a href=\"http://twitter.com\" rel=\"nofollow\">Twitter Web Client</a>', u'retweeted': False, u'coordinates': None, u'entities': {u'symbols': [], u'user_mentions': [], u'hashtags': [], u'urls': []}, u'in_reply_to_screen_name': None, u'in_reply_to_user_id': None, u'retweet_count': 0, u'id_str': u'645693340978012161', u'favorited': False, u'geo': None, u'in_reply_to_user_id_str': None, u'lang': u'und', u'created_at': u'Sun Sep 20 20:17:43 +0000 2015', u'in_reply_to_status_id_str': None, u'place': None}, u'is_translation_enabled': False, u'utc_offset': None, u'statuses_count': 1, u'description': u'', u'friends_count': 0, u'location': u'', u'profile_link_color': u'1DA1F2', u'profile_image_url': u'http://abs.twimg.com/sticky/default_profile_images/default_profile_normal.png', u'following': False, u'geo_enabled': False, u'profile_background_image_url': u'http://abs.twimg.com/images/themes/theme1/bg.png', u'name': u'twiterbot_noticies', u'lang': u'es', u'profile_background_tile': False, u'favourites_count': 0, u'screen_name': u'tfg_1304320', u'notifications': False, u'url': None, u'created_at': u'Sun Sep 20 19:16:41 +0000 2015', u'contributors_enabled': False, u'time_zone': None, u'protected': False, u'default_profile': True, u'is_translator': False}, time_zone=None, suspended=False, id=3720533727, description=u'', _api=<tweepy.api.API object at 0x7f6be66a0750>, verified=False, profile_location=None, profile_image_url_https=u'https://abs.twimg.com/sticky/default_profile_images/default_profile_normal.png', profile_sidebar_fill_color=u'DDEEF6', is_translator=False, geo_enabled=False, entities={u'description': {u'urls': []}}, followers_count=1, protected=False, id_str=u'3720533727', default_profile_image=True, needs_phone_verification=False, listed_count=0, status=Status(contributors=None, truncated=False, text=u'comen\\xe7ant el tfg...', is_quote_status=False, in_reply_to_status_id=None, id=645693340978012161, favorite_count=0, _api=<tweepy.api.API object at 0x7f6be66a0750>, source=u'Twitter Web Client', _json={u'contributors': None, u'truncated': False, u'text': u'comen\\xe7ant el tfg...', u'is_quote_status': False, u'in_reply_to_status_id': None, u'id': 645693340978012161, u'favorite_count': 0, u'source': u'<a href=\"http://twitter.com\" rel=\"nofollow\">Twitter Web Client</a>', u'retweeted': False, u'coordinates': None, u'entities': {u'symbols': [], u'user_mentions': [], u'hashtags': [], u'urls': []}, u'in_reply_to_screen_name': None, u'in_reply_to_user_id': None, u'retweet_count': 0, u'id_str': u'645693340978012161', u'favorited': False, u'geo': None, u'in_reply_to_user_id_str': None, u'lang': u'und', u'created_at': u'Sun Sep 20 20:17:43 +0000 2015', u'in_reply_to_status_id_str': None, u'place': None}, coordinates=None, entities={u'symbols': [], u'user_mentions': [], u'hashtags': [], u'urls': []}, in_reply_to_screen_name=None, id_str=u'645693340978012161', retweet_count=0, in_reply_to_user_id=None, favorited=False, source_url=u'http://twitter.com', geo=None, in_reply_to_user_id_str=None, lang=u'und', created_at=datetime.datetime(2015, 9, 20, 20, 17, 43), in_reply_to_status_id_str=None, place=None, retweeted=False), lang=u'es', utc_offset=None, statuses_count=1, profile_background_color=u'C0DEED', friends_count=0, profile_link_color=u'1DA1F2', profile_image_url=u'http://abs.twimg.com/sticky/default_profile_images/default_profile_normal.png', notifications=False, default_profile=True, favourites_count=0, profile_background_image_url_https=u'https://abs.twimg.com/images/themes/theme1/bg.png', profile_background_image_url=u'http://abs.twimg.com/images/themes/theme1/bg.png', screen_name=u'tfg_1304320', is_translation_enabled=False, profile_background_tile=False, profile_text_color=u'333333', name=u'twiterbot_noticies', url=None, created_at=datetime.datetime(2015, 9, 20, 19, 16, 41), contributors_enabled=False, location=u'', profile_sidebar_border_color=u'C0DEED', translator_type=u'none', following=False)"
      ]
     },
     "execution_count": 19,
     "metadata": {},
     "output_type": "execute_result"
    }
   ],
   "source": [
    "user"
   ]
  },
  {
   "cell_type": "code",
   "execution_count": null,
   "metadata": {
    "collapsed": true
   },
   "outputs": [],
   "source": []
  }
 ],
 "metadata": {
  "kernelspec": {
   "display_name": "Python 2",
   "language": "python",
   "name": "python2"
  },
  "language_info": {
   "codemirror_mode": {
    "name": "ipython",
    "version": 2
   },
   "file_extension": ".py",
   "mimetype": "text/x-python",
   "name": "python",
   "nbconvert_exporter": "python",
   "pygments_lexer": "ipython2",
   "version": "2.7.13"
  }
 },
 "nbformat": 4,
 "nbformat_minor": 2
}
