{
 "cells": [
  {
   "cell_type": "markdown",
   "metadata": {},
   "source": [
    "# Task 1.2\n",
    "## Programa endevinar números\n",
    "Codi python que implementa el programa."
   ]
  },
  {
   "cell_type": "code",
   "execution_count": 2,
   "metadata": {
    "collapsed": false
   },
   "outputs": [
    {
     "name": "stdout",
     "output_type": "stream",
     "text": [
      "Random between 0 and 20\n",
      "Introduce: 10\n",
      "A bit lower\n",
      "Introduce: 5\n",
      "A bit higher\n",
      "Introduce: 7\n",
      "Excellent!\n",
      "You can!\n"
     ]
    }
   ],
   "source": [
    "import random\n",
    "randomNumber = random.randrange(0,20)\n",
    "print(\"Random between 0 and 20\")\n",
    "guessed=False\n",
    "while guessed==False:\n",
    "    userNumber=int(input(\"Introduce: \"))\n",
    "    if userNumber==randomNumber:\n",
    "        guessed=True\n",
    "        print(\"Excellent!\")\n",
    "    elif userNumber>randomNumber:\n",
    "        print(\"A bit lower\")\n",
    "    elif userNumber<randomNumber:\n",
    "        print(\"A bit higher\")\n",
    "print(\"You can!\")"
   ]
  },
  {
   "cell_type": "code",
   "execution_count": null,
   "metadata": {
    "collapsed": true
   },
   "outputs": [],
   "source": []
  }
 ],
 "metadata": {
  "kernelspec": {
   "display_name": "Python 2",
   "language": "python",
   "name": "python2"
  },
  "language_info": {
   "codemirror_mode": {
    "name": "ipython",
    "version": 2
   },
   "file_extension": ".py",
   "mimetype": "text/x-python",
   "name": "python",
   "nbconvert_exporter": "python",
   "pygments_lexer": "ipython2",
   "version": "2.7.13"
  }
 },
 "nbformat": 4,
 "nbformat_minor": 2
}
