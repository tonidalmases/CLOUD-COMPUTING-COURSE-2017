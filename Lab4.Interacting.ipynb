{
 "cells": [
  {
   "cell_type": "markdown",
   "metadata": {},
   "source": [
    "# Task 4.1: How to provide your services through an API?\n",
    "## Creació de servidor web\n",
    "Per tal de proveir servei, creem un servidor a l'escolta en el port 1993 mitjançant el qual servirem la pàgina que oferirà els serveis."
   ]
  },
  {
   "cell_type": "code",
   "execution_count": null,
   "metadata": {
    "collapsed": false
   },
   "outputs": [
    {
     "name": "stdout",
     "output_type": "stream",
     "text": [
      "Started my REST API on port 1993\n"
     ]
    }
   ],
   "source": [
    "import SimpleHTTPServer\n",
    "import SocketServer\n",
    "\n",
    "PORT = 1993\n",
    "\n",
    "class MyRequestHandler(SimpleHTTPServer.SimpleHTTPRequestHandler):\n",
    "    def do_GET(self): # tractem dos serveis, depenent de URL d'accés\n",
    "        if self.path == '/servei_plot':\n",
    "            self.path = '/OurService1.html'\n",
    "        elif self.path == '/servei_geo':\n",
    "            self.path = '/OurService1.html'\n",
    "        return SimpleHTTPServer.SimpleHTTPRequestHandler.do_GET(self)\n",
    "\n",
    "Handler = MyRequestHandler\n",
    "server = SocketServer.TCPServer(('0.0.0.0', PORT), Handler)\n",
    "\n",
    "print 'Started my REST API on port ' + str(PORT)\n",
    "server.serve_forever()"
   ]
  },
  {
   "cell_type": "markdown",
   "metadata": {},
   "source": [
    "## Tractament d'emoticones\n",
    "Importem el codi de les dues pràctiques anteriors que tracten els emoticones."
   ]
  },
  {
   "cell_type": "code",
   "execution_count": 1,
   "metadata": {
    "collapsed": true
   },
   "outputs": [],
   "source": [
    "import re\n",
    " \n",
    "emoticons_str = r\"\"\"\n",
    "    (?:\n",
    "        [:=;] # Eyes\n",
    "        [oO\\-]? # Nose (optional)\n",
    "        [D\\)\\]\\(\\]/\\\\OpP] # Mouth\n",
    "    )\"\"\"\n",
    " \n",
    "regex_str = [\n",
    "    emoticons_str,\n",
    "    r'<[^>]+>', # HTML tags\n",
    "    r'(?:@[\\w_]+)', # @-mentions\n",
    "    r\"(?:\\#+[\\w_]+[\\w\\'_\\-]*[\\w_]+)\", # hash-tags\n",
    "    r'http[s]?://(?:[a-z]|[0-9]|[$-_@.&+]|[!*\\(\\),]|(?:%[0-9a-f][0-9a-f]))+', # URLs\n",
    " \n",
    "    r'(?:(?:\\d+,?)+(?:\\.?\\d+)?)', # numbers\n",
    "    r\"(?:[a-z][a-z'\\-_]+[a-z])\", # words with - and '\n",
    "    r'(?:[\\w_]+)', # other words\n",
    "    r'(?:\\S)' # anything else\n",
    "]\n",
    "    \n",
    "tokens_re = re.compile(r'('+'|'.join(regex_str)+')', re.VERBOSE | re.IGNORECASE)\n",
    "emoticon_re = re.compile(r'^'+emoticons_str+'$', re.VERBOSE | re.IGNORECASE)\n",
    " \n",
    "def tokenize(s):\n",
    "    return tokens_re.findall(s)\n",
    " \n",
    "def preprocess(s, lowercase=False):\n",
    "    tokens = tokenize(s)\n",
    "    if lowercase:\n",
    "        tokens = [token if emoticon_re.search(token) else token.lower() for token in tokens]\n",
    "    return tokens"
   ]
  },
  {
   "cell_type": "markdown",
   "metadata": {},
   "source": [
    "## Càrrega de fitxer de tweets d'IA\n",
    "Carreguem el fitxer de tweets d'intel·ligència artificial doncs hi ha 4 dels quals podem obtenir la geolocalització. En el nostre exemple de la Telefónica no n'hi havia cap que tingués la geolocalització activada."
   ]
  },
  {
   "cell_type": "code",
   "execution_count": 3,
   "metadata": {
    "collapsed": false
   },
   "outputs": [
    {
     "name": "stdout",
     "output_type": "stream",
     "text": [
      "[(u':', 4), (u'\\u2026', 4), (u'RT', 3), (u'to', 3), (u'#ArtificialIntelligence', 2)]\n"
     ]
    }
   ],
   "source": [
    "import operator \n",
    "import json\n",
    "from collections import Counter\n",
    "\n",
    "fname = '../json/ArtificialIntelligenceTweets.json'\n",
    "with open(fname, 'r') as f:\n",
    "    count_all = Counter()\n",
    "    for line in f:\n",
    "        tweet = json.loads(line)\n",
    "        # Create a list with all the terms\n",
    "        terms_all = [term for term in preprocess(tweet['text'])]\n",
    "        # Update the counter\n",
    "        count_all.update(terms_all)\n",
    "    print(count_all.most_common(5))"
   ]
  },
  {
   "cell_type": "markdown",
   "metadata": {},
   "source": [
    "## Importem Vincent i creem fitxer de freqüències\n",
    "Finalment mitjançant la llibreria Vicent que hem instal·lat procedim a crear el fitxer JSON amb les freqüències dels most_common per tal de passar-li com a paràmetre d'entrada de dades al nostre sistema web de printat de plot."
   ]
  },
  {
   "cell_type": "code",
   "execution_count": 5,
   "metadata": {
    "collapsed": true
   },
   "outputs": [],
   "source": [
    "import vincent\n",
    " \n",
    "word_freq = count_all.most_common(15)\n",
    "labels, freq = zip(*word_freq)\n",
    "data = {'data': freq, 'x': labels}\n",
    "bar = vincent.Bar(data, iter_idx='x')\n",
    "bar.to_json('../json/term_freq.json')"
   ]
  },
  {
   "cell_type": "markdown",
   "metadata": {},
   "source": [
    "# Task 4.2: How to provide our service combined with third-party services?\n",
    "## Procediment\n",
    "En aquest cas tractem les coordenades per a treballar la segona part de la pràctica, el printat de punts en un mapa, obtinguts mitjançant el camp de geolocalització d'un tweet. Per fer-ho usem els tweets del Racó, doncs n'hi ha 4 que tenen geolocalització mentre que en els nostres cap en té."
   ]
  },
  {
   "cell_type": "code",
   "execution_count": 7,
   "metadata": {
    "collapsed": false
   },
   "outputs": [],
   "source": [
    "import json\n",
    "\n",
    "fname = '../json/Lab3.CaseStudy.json'\n",
    "with open(fname, 'r') as f:\n",
    "    geo_data = {\n",
    "        \"type\": \"FeatureCollection\",\n",
    "        \"features\": []\n",
    "    }\n",
    "    for line in f:\n",
    "        tweet = json.loads(line)\n",
    "        if tweet['coordinates']:\n",
    "            geo_json_feature = {\n",
    "                \"type\": \"Feature\",\n",
    "                \"geometry\": tweet['coordinates'],\n",
    "                \"properties\": {\n",
    "                    \"text\": tweet['text'],\n",
    "                    \"created_at\": tweet['created_at']\n",
    "                }\n",
    "            }\n",
    "            geo_data['features'].append(geo_json_feature)\n",
    "\n",
    "with open('../json/geo_data.json', 'w') as fout:\n",
    "    fout.write(json.dumps(geo_data, indent=4))"
   ]
  },
  {
   "cell_type": "markdown",
   "metadata": {
    "collapsed": true
   },
   "source": [
    "# Task 4.3: Student proposal\n",
    "## Explicació\n",
    "Arribats a aquest punt tenim dos serveis, el del plot i el del mapa, ambdós són accessibles mitjançant el servei web creat al servidor de la primera part de la pràctica.\n",
    "## Enllaços\n",
    "Servei de plot: http://localhost:1993/servei_plot\n",
    "\n",
    "Servei de geolocalització: http://localhost:1993/servei_geo"
   ]
  }
 ],
 "metadata": {
  "kernelspec": {
   "display_name": "Python 2",
   "language": "python",
   "name": "python2"
  },
  "language_info": {
   "codemirror_mode": {
    "name": "ipython",
    "version": 2
   },
   "file_extension": ".py",
   "mimetype": "text/x-python",
   "name": "python",
   "nbconvert_exporter": "python",
   "pygments_lexer": "ipython2",
   "version": "2.7.13"
  }
 },
 "nbformat": 4,
 "nbformat_minor": 2
}
